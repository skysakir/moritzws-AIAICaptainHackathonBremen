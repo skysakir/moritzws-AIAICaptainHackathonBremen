{
 "cells": [
  {
   "cell_type": "markdown",
   "source": [
    "Requirements:\n",
    "- langchain\n",
    "- langchain-openai\n",
    "- pandas\n",
    "- chromadb\n",
    "- openai\n",
    "- streamlit\n",
    "- langchain-community\n",
    "- openpyxl\n",
    "- langchain-chroma"
   ],
   "metadata": {
    "collapsed": false
   },
   "id": "b8ac7ff42239b5ac"
  },
  {
   "cell_type": "code",
   "execution_count": 1,
   "id": "initial_id",
   "metadata": {
    "collapsed": true,
    "ExecuteTime": {
     "end_time": "2024-09-21T09:27:45.881869Z",
     "start_time": "2024-09-21T09:27:44.402468Z"
    }
   },
   "outputs": [],
   "source": [
    "import langchain\n",
    "import pandas as pd\n",
    "from langchain_chroma import Chroma\n",
    "from langchain_openai import OpenAIEmbeddings\n",
    "from langchain.chains import LLMChain\n",
    "from langchain.prompts import PromptTemplate\n",
    "from langchain.schema import Document\n",
    "import os\n",
    "from langchain import LLMChain\n",
    "from langchain.prompts import PromptTemplate\n",
    "from langchain_openai import OpenAI\n",
    "\n",
    "from chatbot import setup_vector_store, setup_embedding_model, get_job_description_for_query, get_summary, get_output, get_summary_chain, get_output_prompt\n",
    "\n",
    "from api_key import api_key"
   ]
  },
  {
   "cell_type": "code",
   "execution_count": 2,
   "outputs": [],
   "source": [
    "os.environ[\"OPENAI_API_KEY\"] = api_key\n",
    "\n",
    "#model = \"text-embedding-3-small\"\n",
    "#embedding_model = OpenAIEmbeddings(model=model)"
   ],
   "metadata": {
    "collapsed": false,
    "ExecuteTime": {
     "end_time": "2024-09-21T09:27:46.101420Z",
     "start_time": "2024-09-21T09:27:46.093246Z"
    }
   },
   "id": "e08f8fe1120b325c"
  },
  {
   "cell_type": "code",
   "execution_count": 164,
   "outputs": [],
   "source": [
    "def createDocuments(df):\n",
    "    documents = []\n",
    "    for index, row in df.iterrows():\n",
    "        document = Document(page_content=row[\"Beschreibung der Position und Zuständigkeiten bei Problemen\"], metadata={\"name\":row[\"Name\"], \"personal_id\": index})\n",
    "        documents.append(document)\n",
    "        document = Document(page_content=row.fillna(\"\")[\"Betreute Programme\"], metadata={\"name\": row[\"Name\"], \"personal_id\": index})\n",
    "        documents.append(document)\n",
    "    return documents"
   ],
   "metadata": {
    "collapsed": false,
    "ExecuteTime": {
     "end_time": "2024-09-20T21:38:57.005326Z",
     "start_time": "2024-09-20T21:38:56.999847Z"
    }
   },
   "id": "4581fba65014a218"
  },
  {
   "cell_type": "code",
   "execution_count": 165,
   "outputs": [
    {
     "data": {
      "text/plain": "['3eca9e1b-a286-4bce-a2cd-7ad2d88241a7',\n 'f7d0bd86-1f54-4ddc-8e04-9e07a397f0a5',\n '1ef3a6c8-e4c6-42b8-896a-07ce7cbb32f2',\n 'b8eba65b-4b7f-46bc-95c6-3b3d28c9dedd',\n 'd8fdb977-b429-407e-9e30-588386f62cb8',\n '7c3f03f8-2901-4211-b0fe-408ffe9302e1',\n '360a6d99-ef2a-42f0-a1ab-f87de04a1cd1',\n '2db50b23-010b-4d70-b1b9-892860e62fa6',\n 'e2d2d21f-5069-4aad-8b1c-dbcbdeb1654b',\n '8d745f91-71ab-40a4-9f64-2924ef83fb91',\n '1555a01f-0aa7-4429-8a7f-6abf8cfd35ea',\n '36d1f10f-c9b1-44c2-b9b1-bf0f3e1be83d',\n 'ef792c0b-25d8-4a84-ac53-8cb9d83a964d',\n 'f204aae0-eb6d-444d-aa49-1ecf95048090',\n '223c8a36-ae4f-482e-bfc0-6c3108b2607b',\n '6beb50b4-756d-4a5e-b0bb-a68a74fc9edb',\n '37c5fccb-adf8-4131-946d-2dbb81509b3a',\n '45a7f538-cb12-4175-80ea-35c3097e3372',\n 'ec8bdcdd-2193-41a4-a1b8-4a5029b9bda0',\n 'b58c32c2-d1c8-44bd-b922-ca7512b7ae1c',\n '55412a9e-480a-4e3a-aebf-401b851c8c0e',\n 'ca450234-722e-4d93-803c-6995f23019dd',\n 'd0627efc-0967-4c5b-b273-cc9d64ecc2a4',\n 'bb554801-bf9f-48b3-90d7-d49d80485bec',\n 'a9f980f2-6f84-4cc0-8b87-cb3455f81a2e',\n 'd59353f7-8b54-424b-986c-1babd1f0b15c',\n '0e132b43-c64b-4473-b2af-437ae343911b',\n '0594da76-83f1-4812-a95f-06221d64ec31',\n 'af17fed3-45c5-4b1f-9d09-b3491daa227d',\n '2e65ae50-84e0-4709-8681-bc9f7961b8f9',\n '86a12ee8-467f-4311-992c-89d5fc4dd4ac',\n '9acd5460-49f4-4b65-9d15-801acfbb57a6',\n '1cba5235-621d-4690-bcb4-22fbe7d98031',\n 'c4994b6a-66f6-4ca9-b329-a030db4a6ed5',\n 'f204d6cb-6aeb-4cde-b3c4-858d8498048d',\n 'fff697c8-01db-4a62-81a9-e56f2a7863cf',\n 'ec9ede5d-5b19-45ac-972a-1a9939b5c2be',\n '4ebc3efd-4e37-4ba5-a28a-28ed59bed8ee',\n 'cb93db07-eba6-44e5-a66d-f0758f4035d5',\n '0a018b16-cc28-4dfa-a7d5-1cf7784d920b',\n 'c9425e79-62ae-41de-9519-dddcd22681f7',\n 'da61410a-29bd-42f3-a451-4c0cb7b831a6',\n '976a0a48-b6bc-4e50-9285-7d8a5bd1349d',\n '90fc50cf-b76b-4850-b841-5d7bd7ec6169',\n '4979c499-6681-4ce1-b405-6192d3c79f2c',\n 'c7d9cb8a-d008-406e-8344-330e0c3566d5',\n 'd0a36597-801e-4ee0-b6b7-debac4a749e1',\n '4ade556c-cccd-404a-8818-0e120bb22389',\n '019d646a-b419-4170-968c-22a7790783de',\n '83a336a9-aced-4f6e-8b4a-3430fa6a5fa9',\n '190ad593-ee9f-4d47-bd6d-7eef5ee7ee65',\n '4bc28bd1-c3f1-4452-997d-bf2c96b5a00f',\n 'b31dd07b-b422-4d20-bbfd-9d71f7a1e9e4',\n '13e50109-de57-432e-b9c3-ab334582bdd9',\n 'b7b3ed97-29e7-4435-a4f2-a5d04221804d',\n 'e750b000-02d5-4821-a154-21cdd9018995',\n 'b1cc31b1-b2b2-41b2-b8eb-0b2659a0e55d',\n '4af46af0-ecbb-4bfa-9e3a-e8bf0438e5ff',\n 'de7c7695-97fb-438e-9565-40f7d5d42cd3',\n 'a6242def-a137-4fd9-ac0e-7fcb6268c5eb',\n '80302404-961c-4a11-b0d0-1859db951983',\n 'e617483b-34cc-4599-a8e6-3f02e98dc460',\n '07838138-ad59-4823-a1de-211fe9fe1fa5',\n '5a275cdc-4ad3-4d1b-bcb7-b1228082a020',\n '10364bec-60c7-4aed-abb5-27f43d01111d',\n '2d7bd712-a3cd-4824-909d-791748bb0e05',\n '10d22ffe-fd0b-4861-88dd-b34e52b23b14',\n '95306576-c182-4c74-a0fe-75ee00d0d44e',\n '6e2ca4b3-021d-4c29-aa42-cef97c18a49a',\n 'df1daabd-420d-4ae9-a3d7-1676f2944501',\n '39f1fb0c-850d-45b8-82df-67df20cba243',\n 'a2a2f556-b0fa-4359-952c-3312d9faef4f',\n 'ee1209c0-4632-4ec7-b67f-e300e493519d',\n '9cdef0e7-da12-47b1-b548-b9e6075c629c',\n 'd7bda9d5-cd71-4616-897b-215de52b8646',\n '87263a75-fa6b-417e-8be8-3fa6e791c08a',\n '4443f29b-a073-4ba9-b26b-acb1a15a1351',\n '12a037b7-2980-415b-aa93-03d164cc36ec',\n '0fcbcda5-69ad-43bd-b22b-cfe81df0743f',\n '385beabc-4bff-4b6b-b88d-b422f7f6d9aa',\n '7ce8b37e-e4b7-4dc0-a923-f4a37912cbf5',\n 'e7d15511-c494-4906-91e8-dd9168b9234d',\n '7f066a56-0cf7-47b7-884b-2eb56ead0310',\n '8aa462cd-5230-49d8-86fb-695e85a59d40',\n '8a9fc279-afa2-40e3-bef4-71a66ec550a9',\n '64330411-be3f-419b-a6c9-a6c69b979f68',\n '6c9a3001-53d0-4c89-8171-8e3e77ca0aba',\n 'bc84dad3-1734-4072-82d5-67dc900280d7',\n 'a0d30365-bb88-4fb5-9da0-02fa72bcf923',\n 'b4dc3277-e28e-42c2-abc8-c2a25b1436e0',\n '4f5fc701-c495-4c3d-88d3-811682163378',\n 'ddd83f12-776d-4631-80f0-8b116156db03',\n '4b4f3b6b-4227-4a6b-8eea-d4c6e0f64f34',\n '68b64f60-8cd0-40f8-93fd-27ca6370509e',\n 'af34df25-cc56-4030-aa89-81c8a2b6e885',\n 'cd8207de-057b-43e2-9bd0-e92c72dd0301',\n 'ac506cce-780a-4954-8f62-123bb1fe2b51',\n '4f8013ea-9240-4219-a516-e448a868585c',\n 'a0bdac85-fe28-4f84-810c-1318c6557d9a',\n '70d85822-2e9c-4c2f-a2de-2c97d548c69e',\n '5411b7f3-1c86-4994-8218-52f970f0d5e9',\n '196717ff-83fb-4b7f-8d4c-e3b50bd1d545',\n '51fbbaa7-d2b5-467e-930a-d15719d8abcb',\n '7ffdb56f-b912-41aa-8155-dc30826fa9b6',\n '17d6fb41-5c8c-4941-bb50-6f15a9cb0a62',\n '83423c99-65dd-4583-8741-f298e6e28ddf',\n '6e974599-69d2-493e-b4a6-612152b69107',\n 'fd238aac-7c7c-43a8-9601-22eec033fbd8',\n '38e92bc6-65b8-49d6-b0ae-be99e08a46f0',\n '0dc29eb6-3af9-4671-930c-5ce9af860eb7',\n 'fde11131-ba45-4f88-b206-979d8105dbe8',\n '14d51d08-1bbc-4340-aad6-4abab264ad6a',\n 'dab37625-54e0-4308-a091-5b81fc4a4e21',\n 'e1986e66-c999-49ba-ac2c-27fff8aaee04',\n '8a249428-9e0f-4345-a0b3-c18afaf38e27',\n '7c78e07b-e7f6-4f37-bfb0-36218d40549f',\n '73948b1c-ad6b-4884-8b64-0d39c1a52077',\n '862c3eac-040f-4430-b6f1-ce1b4b825b6b',\n '4513548a-9507-4c6e-9d6e-a0e867101105',\n '78e56700-9226-43a0-91d7-02af2d539c29',\n '3f9bee73-49f0-4561-8c1d-1112e87350d4',\n '6ed1bba1-4b34-4989-bcd6-e67683ec313e',\n 'a9ee1e41-c978-4cfc-b128-6bb3cd60414e',\n '4d3bdfd3-f8bb-4ab6-a696-b8d46604307e',\n 'e726b874-0ff9-43f5-abf4-0fd823ac957d',\n 'e7959dcb-9f90-4be7-9888-f44259c657bf',\n '5be70d7b-40f5-4554-8203-d4598ae52ab5',\n '67e0ccad-fefd-42d1-b808-2cf4e0235c7d',\n 'cfaec84c-0b02-47e1-8261-9cfdd1f8816d',\n '64e87d6c-1033-40cc-97a2-4e1e7edd2d85',\n 'd67a23be-2e9f-413f-8c2a-7180815a08d9',\n 'eeada42c-e4c0-4952-b187-82c023dd265c',\n 'd9214a2c-8f31-4199-8948-44965e29f784',\n '4263007b-1ca2-4b8a-a2bf-3fdb77ba7b0a',\n 'd5c41f7d-c2a8-4dc1-aa2d-30deb6ae9ffc',\n '57318678-cbdd-458a-93da-37496ebc4ad7',\n '32e21fee-4824-4332-bf1d-6be5367f3b6d',\n '9a250e93-9e81-4e27-a66a-c52ba214f689',\n '8f79c1fa-0d5d-4c3b-a005-7014011d27ee',\n 'c6ca84c2-453f-4122-97fb-692cadb89d7f',\n 'f4a637db-e13a-4634-9fbe-baef5ffcbc85',\n '00591b64-89c8-47a2-8283-3a7c8a8bdec3',\n '8ded643b-fc54-4103-91d3-350968e411b4',\n '31699940-e205-4c37-aad7-9070ccb7ed57',\n '9abf1a1b-83ec-4ced-ac82-2bd4ac290183',\n 'ecb039b1-9570-41ae-a07d-4e14bfb33d37',\n '2b092bee-0eb4-415a-a4c4-a26dabb3f326',\n '06e50b36-8256-47dc-879f-77ed14a2a4b0',\n '369dde9d-acba-4c43-8d9f-6fe5eef89600',\n '517cf3c8-6b58-459a-b14d-01fc16edb66b',\n 'bb9fddfe-fd97-4063-9f0a-c8749632e20b',\n '8775fe12-b863-4878-b2c0-6e72f3f7bdb6',\n 'dc9b07c2-eb8f-4b06-bc55-de0769848ef2',\n 'a761b9cb-82d0-4410-9ddf-26247de33e31',\n 'aaed84f1-e0a8-431a-8030-ed025a671170',\n '91ccc812-e307-4eee-8415-9db4cbedd016',\n '4cdecec6-b2e2-45c6-8f03-2a1bc067607a',\n 'bd078353-2f4e-4f25-9997-88a6594fcfd8',\n 'a32a8af8-c4ad-4e5f-8404-40a94a3d3a84',\n '18a12541-43d5-4792-91d0-7fb90756579c',\n '982572ab-4d47-4193-975f-e0026c52d19b',\n '42d34b1a-7481-40a6-a84f-c32bdfb9a247',\n '15e399bd-52bb-446a-b1a7-78d0dc4506bb',\n 'c6895538-3c22-4f18-b421-53459928ffdd',\n '76d73404-7026-422d-bbe7-259f7fea2b74',\n '2730baa6-b404-41c0-abe4-b65c6871e472',\n '163ebebf-0dce-415c-8a6d-a6c35df5da28',\n 'b7b01393-c383-4b38-a41a-4df5793dfb55',\n 'bbf3802c-a8a5-44a7-bd38-35f52c7f88a2',\n '21e2d583-b48b-4718-be87-224eb0f516e1',\n '0bda66bb-0633-43d5-b39b-0b1b8fbce28f',\n '059c8b4a-718a-4aba-8fff-b4ffab5d38ac',\n '7cef4402-47dc-4aa2-924d-55b9358453f7',\n '810838c6-7f44-4576-8201-ad43ccd87400',\n '49e7ac36-0879-4813-b749-335af71d04a9',\n '0d0497d2-be8b-455e-ba09-26b33af73655',\n '42a30b18-bab6-41d2-a908-83272b71c64d',\n '6b8fea41-a814-4572-9946-6811edf9cd2b',\n '872b4bcb-7030-4dd9-ad1d-4df0e223d2b7',\n 'c0956beb-4d24-42e9-a6ae-5bd8cf12975e',\n '9cb85b4a-1836-45df-ab01-74a963ded1a4',\n '2ca4ac84-0345-46b9-a727-d1a6255388e9',\n '69ce21a5-45a2-4f91-840e-a275ae7ffd3f',\n '39b7a0fb-ca1f-41bf-9c95-bb220679a491',\n '3e56c111-9a56-4f26-a26b-65faf23712b2',\n '65924320-c727-43e5-972b-8a6fab07103c',\n '303079be-6d1d-4e59-a96f-e1e457a504ce',\n '9f485eb4-1bdd-4068-88dc-f9ceb1cc64ff',\n 'c59cd40e-14b9-4397-8bd9-2c2f5ca44d57',\n '9bbdcdac-44c0-4fe9-a2d3-c0d3e0847d4a',\n '0a9deb27-5f0a-48cb-b5f7-a93819e9658b',\n '2a37b2f5-c049-4047-95ba-5b4860e16e5f',\n 'e8aee479-6e53-4758-94c5-4aa83927a8fb',\n '17098e67-8486-4eda-9b86-b609acbd72c4',\n 'cf351fa4-8d9e-4c6e-8b65-3258d95ccd39',\n '13f1a0db-420e-4170-9fa4-7770744d3198',\n '02da7220-66df-4217-afcd-b3b522ed5a6d',\n 'df18b514-4ec2-41d0-b965-95e705f1bd91',\n '8d529e3e-b5c1-4ac0-a1bd-8d40091d1421',\n 'bdad5b33-9186-4dbf-b87e-004767552e2f',\n '42d2d84a-e564-49a1-aa37-dd3bd9e97e5f',\n '14c6bd2f-40de-4460-886b-bfb4f9d9cc8f',\n '1b51ca41-62f3-4edb-a94b-4749dac9ca28',\n 'caeb64a0-dac0-4330-9027-e9e254304be0',\n '9bc8f60c-81a1-4405-b207-13e8d5e3edeb',\n 'ab3f3116-6465-4d88-8d2a-9fad8c11538c',\n '98dfab47-2b4b-4391-949d-9f5fadf65139',\n 'fbd9ec53-0b3d-490c-8579-2fcd57cd4ac2',\n 'e4290610-92db-44de-9be6-0eb91cba908c',\n 'bb68e212-3bd2-43c4-bc4e-62ce11f013d3',\n '6ebfea88-7a8a-4f8a-9076-845ee84cf80b',\n '136f6023-0362-40d1-a3b2-b8abb29a721d',\n 'd9dd5e51-c14f-4020-8779-0c4ec726b8ef',\n '36b7f005-4ace-4c69-a27d-1b4f4749ce83',\n '959b9971-bf40-4c87-a354-101c6faebbbe',\n 'd429a483-e30b-480f-90f4-48e4c62927ca',\n '59e24fde-7ca8-4fd7-8da4-d9aa90c567d7',\n '7fd07886-1439-4bf9-ab4b-9b33d738fb13',\n 'c608f543-47fa-4d0f-a318-8997c4a8b66f',\n '06d3d45a-ae01-4acc-8b43-5014ff272ee3',\n 'cf26ed40-fc95-4676-bff6-da8f34c8b9d5',\n '62a54f77-45cd-490b-b953-45af81477362',\n 'e111586f-666f-408e-803a-84f42f7464ca',\n '07df57e0-0137-4ef2-8bfd-65f475c1b08e',\n 'bd72d2c6-543c-4125-9465-807feb8d9235',\n '041c5764-4018-4899-a555-c6b735f6fad8',\n 'f1df06f8-b60c-42ad-8fbb-4bc273f4d33d',\n '973dc6bc-1d20-4fd2-a36c-867185891be4',\n '66f2d53b-7e26-4d9a-859c-676b8c12cfef',\n 'e8fd9d6a-e1ac-4948-9300-393b1150bf66',\n '98220d40-6167-49ee-bc71-505b4a48968d',\n '1e7b99d7-dcc8-4a78-b18d-fa3b1113e16b',\n '7983914e-bb45-4fc3-95af-757de39c595e',\n '3746548f-ce3d-4d3e-a568-f3a81d3d00cb',\n '889c3975-9fc4-4f33-8b78-d46bbbf252b3',\n '03354f46-076f-4676-9b49-0bfbec9ab544',\n '8ca2f6ec-bda8-4ba4-96a2-5da6114c4f1e',\n '00473a1f-a436-45e8-bd06-ac6c2e0d69cf',\n '828a7a7d-1e23-4127-935e-b307cfaf51ac',\n '9472fed9-9e6f-4910-b663-d849bf57e861',\n 'bdcd5f9c-ba65-46b5-ba24-9a63070ac02e',\n '6a678320-abfc-4471-93ea-eaf0dfc7ebde',\n 'e3d6baa1-4f37-4e31-87ad-140049a41e46',\n '1c6a1016-c99f-4f1b-bf1a-a62dd400c92a',\n '36b17646-e98e-4284-b1e8-870767556961',\n 'b57b15dd-42bf-4b5d-ba0b-5ffd170563dc',\n 'fd97bc78-6076-4a15-8a5c-78f763f8f0c3',\n 'db3cd4d9-4db3-4407-b4d2-ae2d2ae5887c']"
     },
     "execution_count": 165,
     "metadata": {},
     "output_type": "execute_result"
    }
   ],
   "source": [
    "path_to_xlsx = \"/Users/annka/Downloads/KI-HackathonxROSSMANN_Challenge_Ansprechpartner-Chatbot.xlsx\"\n",
    "df = pd.read_excel(path_to_xlsx)\n",
    "#job_descriptions = df[\"Beschreibung der Position und Zuständigkeiten bei Problemen\"].tolist()\n",
    "#programs = df[\"Betreute Programme\"].fillna(\"\").tolist()\n",
    "documents = createDocuments(df)\n",
    "\n",
    "#vector_store = Chroma.from_texts(documents, embedding=embedding_model)\n",
    "vector_store = Chroma(embedding_function=embedding_model)\n",
    "vector_store.add_documents(documents=documents)"
   ],
   "metadata": {
    "collapsed": false,
    "ExecuteTime": {
     "end_time": "2024-09-20T21:39:14.460914Z",
     "start_time": "2024-09-20T21:39:02.889216Z"
    }
   },
   "id": "249c38292d042749"
  },
  {
   "cell_type": "code",
   "execution_count": 172,
   "outputs": [
    {
     "name": "stdout",
     "output_type": "stream",
     "text": [
      "['1ef3a6c8-e4c6-42b8-896a-07ce7cbb32f2', 'b8eba65b-4b7f-46bc-95c6-3b3d28c9dedd']\n"
     ]
    }
   ],
   "source": [
    "print(vector_store.get(where={\"personal_id\": 1}).get('ids'))"
   ],
   "metadata": {
    "collapsed": false,
    "ExecuteTime": {
     "end_time": "2024-09-20T21:41:42.228880Z",
     "start_time": "2024-09-20T21:41:42.221012Z"
    }
   },
   "id": "8be59d19ab57b35a"
  },
  {
   "cell_type": "code",
   "execution_count": 158,
   "outputs": [
    {
     "name": "stdout",
     "output_type": "stream",
     "text": [
      "[Document(metadata={'name': 'Martin Wagner'}, page_content='Verantwortlich für die Leitung der agilen Entwicklung und Teamkoordination. Ansprechpartner bei Problemen im agilen Entwicklungsprozess.'), Document(metadata={'name': 'Johannes Schmidt'}, page_content='Führt agile Methoden ein und koordiniert Teams. Ansprechpartner bei Problemen im agilen Entwicklungsprozess.'), Document(metadata={'name': 'Julia Meier'}, page_content='Unterstützt Teams bei der Einführung agiler Methoden. Ansprechpartner bei Coaching und Skalierungsproblemen.')]\n"
     ]
    }
   ],
   "source": [
    "query = \"wer ist scrum master?\"\n",
    "query_embedding = embedding_model.embed_query(query)\n",
    "results = vector_store.similarity_search(query, k=3)\n",
    "print(results)"
   ],
   "metadata": {
    "collapsed": false,
    "ExecuteTime": {
     "end_time": "2024-09-20T21:23:00.148057Z",
     "start_time": "2024-09-20T21:22:59.753183Z"
    }
   },
   "id": "29f783d29330ece4"
  },
  {
   "cell_type": "code",
   "execution_count": 133,
   "outputs": [
    {
     "name": "stdout",
     "output_type": "stream",
     "text": [
      "['Martin Wagner', 'Johannes Schmidt', 'Julia Neumann\\n  Julia Meier', 'Series([], )', 'Series([], )', 'Series([], )']\n"
     ]
    }
   ],
   "source": [
    "# guck in df nach den Mitarbeitern, fasse zusammen\n",
    "#employees = [df.loc[df[\"Beschreibung der Position und Zuständigkeiten bei Problemen\"] == document.page_content]['Name'].to_string(index=False) for document in results] \\\n",
    " #           + [df.loc[df[\"Betreute Programme\"] == document.page_content]['Name'].to_string(index=False) for document in results]\n",
    "#employee_names = employees[\"Name\"]\n",
    "#print(employees)"
   ],
   "metadata": {
    "collapsed": false,
    "ExecuteTime": {
     "end_time": "2024-09-20T20:41:15.086052Z",
     "start_time": "2024-09-20T20:41:15.068371Z"
    }
   },
   "id": "9fec5750a3478912"
  },
  {
   "cell_type": "code",
   "execution_count": 33,
   "outputs": [],
   "source": [
    "vector_store.delete_collection()"
   ],
   "metadata": {
    "collapsed": false,
    "ExecuteTime": {
     "end_time": "2024-09-20T22:46:57.223328Z",
     "start_time": "2024-09-20T22:46:57.182652Z"
    }
   },
   "id": "1862389c6f515823"
  },
  {
   "cell_type": "code",
   "execution_count": null,
   "outputs": [],
   "source": [
    "def main():\n",
    "    embedding_model = setup_embedding_model(api_key)\n",
    "    vector_store = setup_vector_store(api_key)\n",
    "\n",
    "    query = \"wer ist scrum master?\"\n",
    "    results = vector_store.similarity_search(query, k=3)"
   ],
   "metadata": {
    "collapsed": false
   },
   "id": "58b311fbac66b760"
  },
  {
   "cell_type": "code",
   "execution_count": 3,
   "outputs": [
    {
     "name": "stderr",
     "output_type": "stream",
     "text": [
      "/Users/annka/Documents/KI_Hackathon_2024/AIAICaptainHackathonBremen/chatbot/chatbot.py:71: LangChainDeprecationWarning: The class `LLMChain` was deprecated in LangChain 0.1.17 and will be removed in 1.0. Use :meth:`~RunnableSequence, e.g., `prompt | llm`` instead.\n",
      "  summary_chain = LLMChain(llm=llm, prompt=summary_prompt)\n"
     ]
    }
   ],
   "source": [
    "embedding_model = setup_embedding_model(api_key)\n",
    "vector_store = setup_vector_store(embedding_model)\n",
    "summary_chain = get_summary_chain(llm=OpenAI())\n",
    "output_prompt = get_output_prompt()"
   ],
   "metadata": {
    "collapsed": false,
    "ExecuteTime": {
     "end_time": "2024-09-21T09:27:54.767407Z",
     "start_time": "2024-09-21T09:27:52.588080Z"
    }
   },
   "id": "6c6e91c5b9ee5ae4"
  },
  {
   "cell_type": "code",
   "execution_count": 4,
   "outputs": [],
   "source": [
    "job = \"Scrum Master\"\n",
    "name = \"Peter Hase\"\n",
    "job_description = \"Er ist Scrum Master\"\n",
    "query = \"Ich suche jemand, der Scrum kann\"\n",
    "\n",
    "summary = get_summary(summary_chain, query, name, job, job_description)\n",
    "output = get_output(output_prompt, name, job, summary)"
   ],
   "metadata": {
    "collapsed": false,
    "ExecuteTime": {
     "end_time": "2024-09-21T09:27:57.166435Z",
     "start_time": "2024-09-21T09:27:55.968389Z"
    }
   },
   "id": "1591f6b87cfcb687"
  },
  {
   "cell_type": "code",
   "execution_count": 8,
   "outputs": [
    {
     "data": {
      "text/plain": "[61, 3, 2]"
     },
     "execution_count": 8,
     "metadata": {},
     "output_type": "execute_result"
    }
   ],
   "source": [
    "documents = vector_store.similarity_search(query, k=3)\n",
    "[document.metadata.get(\"personal_id\") for document in documents]"
   ],
   "metadata": {
    "collapsed": false,
    "ExecuteTime": {
     "end_time": "2024-09-21T10:21:00.398540Z",
     "start_time": "2024-09-21T10:21:00.015619Z"
    }
   },
   "id": "e6adf5533d24370d"
  },
  {
   "cell_type": "code",
   "execution_count": 9,
   "outputs": [
    {
     "name": "stdout",
     "output_type": "stream",
     "text": [
      "\n",
      "    Du kannst dich an einen der folgenden Mitarbeiter wenden: \n",
      "\n",
      "    Peter Hase, Scrum Master\n",
      "\n",
      "Peter Hase ist als Scrum Master spezialisiert auf die Anwendung und Umsetzung von Scrum und kann daher bei Fragen und Anliegen zu diesem Thema kompetente Unterstützung bieten.\n",
      "    \n"
     ]
    }
   ],
   "source": [
    "print(output)"
   ],
   "metadata": {
    "collapsed": false,
    "ExecuteTime": {
     "end_time": "2024-09-21T10:23:58.477340Z",
     "start_time": "2024-09-21T10:23:58.461524Z"
    }
   },
   "id": "c4077ce41d2fd6d8"
  },
  {
   "cell_type": "code",
   "execution_count": 5,
   "outputs": [],
   "source": [
    "# Definiere den Prompt\n",
    "prompt_template = PromptTemplate(\n",
    "    input_variables=[\"description\"],\n",
    "    #template=\"Dein Ansprechpartner ist {name}. Position: {position}. Stellenbeschreibung: {description}\"\n",
    "    template=\"Stellenbeschreibung: {description}\"\n",
    "    #template=\"Wobei brauchst du Hilfe?\"\n",
    ")\n",
    "\n",
    "# Erstelle die LLMChain mit dem Prompt\n",
    "chain = LLMChain(llm=OpenAI(), prompt=prompt_template)\n",
    "\n",
    "def chatbot():\n",
    "    print(\"Wobei brauchst du Hilfe?\")\n",
    "    \n",
    "    # Hier kannst du die Logik hinzufügen, um die passenden Daten zu bestimmen\n",
    "    # Beispielwerte\n",
    "    #description = get_job_description_for_query(user_input, vector_store)\n",
    "\n",
    "    isRunning = True\n",
    "    while isRunning:\n",
    "        user_input = input(\"> \")\n",
    "        if user_input == \"exit\":\n",
    "            isRunning = False\n",
    "        else:\n",
    "            answer = get_job_description_for_query(user_input, vector_store)\n",
    "            print(answer, '\\n')\n",
    "\n",
    "    # Generiere die Antwort\n",
    "    #response = chain.invoke(input=description)\n",
    "    \n",
    "    #print(response)"
   ],
   "metadata": {
    "collapsed": false,
    "ExecuteTime": {
     "end_time": "2024-09-21T09:03:11.547002Z",
     "start_time": "2024-09-21T09:03:11.523290Z"
    }
   },
   "id": "d6ba93b8acefad05"
  },
  {
   "cell_type": "code",
   "execution_count": 38,
   "outputs": [
    {
     "name": "stdout",
     "output_type": "stream",
     "text": [
      "Wobei brauchst du Hilfe?\n",
      "[Document(metadata={'name': 'André Schmidt', 'personal_id': 34}, page_content='VMware, Hyper-V'), Document(metadata={'name': 'Andree Weber', 'personal_id': 39}, page_content='SCCM, Ivanti'), Document(metadata={'name': 'André Schmidt', 'personal_id': 34}, page_content='Verwalten von Servern und Bereitstellung von VMs. Ansprechpartner bei Server- und VM-Problemen.')] \n",
      "[Document(metadata={'name': 'Clara Braun', 'personal_id': 57}, page_content=''), Document(metadata={'name': 'Nadine Weber', 'personal_id': 68}, page_content=''), Document(metadata={'name': 'Sarah Wagner', 'personal_id': 102}, page_content='')] \n",
      "[Document(metadata={'name': 'Sarah Fischer', 'personal_id': 113}, page_content='SAP'), Document(metadata={'name': 'Vanessa Lang', 'personal_id': 19}, page_content='SAP, Oracle'), Document(metadata={'name': 'Peter Hoffmann', 'personal_id': 6}, page_content='SAP, Procurement Software')] \n"
     ]
    }
   ],
   "source": [
    "chatbot()"
   ],
   "metadata": {
    "collapsed": false,
    "ExecuteTime": {
     "end_time": "2024-09-20T22:48:44.642036Z",
     "start_time": "2024-09-20T22:48:27.765278Z"
    }
   },
   "id": "e562599a81074de5"
  },
  {
   "cell_type": "code",
   "execution_count": 20,
   "outputs": [],
   "source": [
    "from langchain.chains.retrieval_qa.base import RetrievalQA\n",
    "\n",
    "\n",
    "def retriever_qa_creation():\n",
    "    llm=OpenAI()\n",
    "    embedding_model = setup_embedding_model(api_key)\n",
    "    vector_store = setup_vector_store(embedding_model)\n",
    "    qa = RetrievalQA.from_chain_type(llm=llm, chain_type=\"stuff\", retriever=vector_store.as_retriever())\n",
    "    return qa\n",
    "\n",
    "rag_chain = retriever_qa_creation()"
   ],
   "metadata": {
    "collapsed": false,
    "ExecuteTime": {
     "start_time": "2024-09-20T22:29:33.301808Z"
    }
   },
   "id": "1bd0129eed0d299d"
  },
  {
   "cell_type": "code",
   "execution_count": 22,
   "outputs": [
    {
     "data": {
      "text/plain": "{'query': 'VM',\n 'result': '\\n\\nVM is a virtual machine, a software emulation of a computer system that allows multiple operating systems to run on the same physical hardware.'}"
     },
     "execution_count": 22,
     "metadata": {},
     "output_type": "execute_result"
    }
   ],
   "source": [
    "rag_chain.invoke(\"VM\")"
   ],
   "metadata": {
    "collapsed": false,
    "ExecuteTime": {
     "start_time": "2024-09-20T22:35:09.565368Z"
    }
   },
   "id": "5eae3535e0ac9268"
  },
  {
   "cell_type": "code",
   "execution_count": null,
   "outputs": [],
   "source": [],
   "metadata": {
    "collapsed": false
   },
   "id": "7586c42bca2e8502"
  }
 ],
 "metadata": {
  "kernelspec": {
   "display_name": "Python 3",
   "language": "python",
   "name": "python3"
  },
  "language_info": {
   "codemirror_mode": {
    "name": "ipython",
    "version": 2
   },
   "file_extension": ".py",
   "mimetype": "text/x-python",
   "name": "python",
   "nbconvert_exporter": "python",
   "pygments_lexer": "ipython2",
   "version": "2.7.6"
  }
 },
 "nbformat": 4,
 "nbformat_minor": 5
}
